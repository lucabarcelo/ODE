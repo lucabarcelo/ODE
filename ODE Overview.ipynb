{
 "cells": [
  {
   "cell_type": "markdown",
   "metadata": {},
   "source": [
    "# ODE\n",
    "\n",
    "### Tools to use:\n",
    "> 1. classify_ode(eq, f(x))\n",
    "2. dsolve (eq, f(x), hint)\n",
    "3. Eq (LHS, RHS)\n",
    "4. x = symbols ('x', integer=True **or** cls=Function)\n",
    "5. simplify (**eqn**)\n",
    "6. matrices.dense.wronskian ([functions], var, method='bareis')"
   ]
  },
  {
   "cell_type": "code",
   "execution_count": 2,
   "metadata": {
    "scrolled": true
   },
   "outputs": [],
   "source": [
    "import sympy as sp"
   ]
  },
  {
   "cell_type": "code",
   "execution_count": 2,
   "metadata": {
    "scrolled": true
   },
   "outputs": [
    {
     "data": {
      "text/latex": [
       "$\\displaystyle y{\\left(t \\right)}$"
      ],
      "text/plain": [
       "y(t)"
      ]
     },
     "execution_count": 2,
     "metadata": {},
     "output_type": "execute_result"
    }
   ],
   "source": [
    "t, l = symbols('t lambda')\n",
    "y = Function('y')(t)\n",
    "y"
   ]
  },
  {
   "cell_type": "code",
   "execution_count": 3,
   "metadata": {
    "scrolled": true
   },
   "outputs": [
    {
     "data": {
      "text/plain": [
       "(t, lambda)"
      ]
     },
     "execution_count": 3,
     "metadata": {},
     "output_type": "execute_result"
    }
   ],
   "source": [
    "t, l"
   ]
  },
  {
   "cell_type": "code",
   "execution_count": 4,
   "metadata": {
    "scrolled": true
   },
   "outputs": [
    {
     "data": {
      "text/latex": [
       "$\\displaystyle \\frac{d}{d t} y{\\left(t \\right)} = - \\lambda y{\\left(t \\right)}$"
      ],
      "text/plain": [
       "Eq(Derivative(y(t), t), -lambda*y(t))"
      ]
     },
     "execution_count": 4,
     "metadata": {},
     "output_type": "execute_result"
    }
   ],
   "source": [
    "dydt = y.diff(t)\n",
    "expr = Eq(dydt, -l*y)\n",
    "expr\n"
   ]
  },
  {
   "cell_type": "markdown",
   "metadata": {},
   "source": [
    "## ODE first-order linear"
   ]
  },
  {
   "cell_type": "code",
   "execution_count": null,
   "metadata": {
    "scrolled": true
   },
   "outputs": [],
   "source": []
  },
  {
   "cell_type": "code",
   "execution_count": null,
   "metadata": {
    "scrolled": true
   },
   "outputs": [],
   "source": []
  },
  {
   "cell_type": "code",
   "execution_count": 5,
   "metadata": {
    "scrolled": true
   },
   "outputs": [
    {
     "data": {
      "text/latex": [
       "$\\displaystyle \\frac{d}{d t} y{\\left(t \\right)} + \\frac{2 y{\\left(t \\right)}}{t} = \\frac{\\cos{\\left(t \\right)}}{t^{2}}$"
      ],
      "text/plain": [
       "Eq(Derivative(y(t), t) + 2*y(t)/t, cos(t)/t**2)"
      ]
     },
     "execution_count": 5,
     "metadata": {},
     "output_type": "execute_result"
    }
   ],
   "source": [
    "# Problem\n",
    "twoP = Eq(y.diff(t,1) + (2/t)*y, cos(t)/t**2)\n",
    "twoP"
   ]
  },
  {
   "cell_type": "code",
   "execution_count": 6,
   "metadata": {
    "scrolled": true
   },
   "outputs": [
    {
     "data": {
      "text/plain": [
       "('1st_exact',\n",
       " '1st_linear',\n",
       " 'Bernoulli',\n",
       " 'almost_linear',\n",
       " 'lie_group',\n",
       " 'nth_linear_euler_eq_nonhomogeneous_variation_of_parameters',\n",
       " '1st_exact_Integral',\n",
       " '1st_linear_Integral',\n",
       " 'Bernoulli_Integral',\n",
       " 'almost_linear_Integral',\n",
       " 'nth_linear_euler_eq_nonhomogeneous_variation_of_parameters_Integral')"
      ]
     },
     "execution_count": 6,
     "metadata": {},
     "output_type": "execute_result"
    }
   ],
   "source": [
    "classify_ode(twoP)"
   ]
  },
  {
   "cell_type": "code",
   "execution_count": 7,
   "metadata": {
    "scrolled": true
   },
   "outputs": [
    {
     "data": {
      "text/latex": [
       "$\\displaystyle y{\\left(t \\right)} = \\frac{C_{1} + \\sin{\\left(t \\right)}}{t^{2}}$"
      ],
      "text/plain": [
       "Eq(y(t), (C1 + sin(t))/t**2)"
      ]
     },
     "execution_count": 7,
     "metadata": {},
     "output_type": "execute_result"
    }
   ],
   "source": [
    "# Solution\n",
    "dsolve(twoP, hint='1st_linear')"
   ]
  },
  {
   "cell_type": "markdown",
   "metadata": {},
   "source": [
    "## Separable Equations"
   ]
  },
  {
   "cell_type": "code",
   "execution_count": 8,
   "metadata": {
    "scrolled": true
   },
   "outputs": [
    {
     "data": {
      "text/latex": [
       "$\\displaystyle y^{2}{\\left(t \\right)} \\sin{\\left(t \\right)} + \\frac{d}{d t} y{\\left(t \\right)} = 0$"
      ],
      "text/plain": [
       "Eq(y(t)**2*sin(t) + Derivative(y(t), t), 0)"
      ]
     },
     "execution_count": 8,
     "metadata": {},
     "output_type": "execute_result"
    }
   ],
   "source": [
    "SepOne = Eq(y.diff(t,1)+y**2*sin(t), 0)\n",
    "SepOne"
   ]
  },
  {
   "cell_type": "code",
   "execution_count": 9,
   "metadata": {
    "scrolled": true
   },
   "outputs": [
    {
     "data": {
      "text/plain": [
       "('separable',\n",
       " '1st_exact',\n",
       " '1st_power_series',\n",
       " 'lie_group',\n",
       " 'separable_Integral',\n",
       " '1st_exact_Integral')"
      ]
     },
     "execution_count": 9,
     "metadata": {},
     "output_type": "execute_result"
    }
   ],
   "source": [
    "classify_ode(SepOne)"
   ]
  },
  {
   "cell_type": "code",
   "execution_count": 28,
   "metadata": {
    "scrolled": true
   },
   "outputs": [
    {
     "ename": "NameError",
     "evalue": "name 'SepOne' is not defined",
     "output_type": "error",
     "traceback": [
      "\u001b[0;31m---------------------------------------------------------------------------\u001b[0m",
      "\u001b[0;31mNameError\u001b[0m                                 Traceback (most recent call last)",
      "\u001b[0;32m<ipython-input-28-26aa36d31960>\u001b[0m in \u001b[0;36m<module>\u001b[0;34m\u001b[0m\n\u001b[0;32m----> 1\u001b[0;31m \u001b[0mdsolve\u001b[0m\u001b[0;34m(\u001b[0m\u001b[0mSepOne\u001b[0m\u001b[0;34m,\u001b[0m \u001b[0mhint\u001b[0m\u001b[0;34m=\u001b[0m\u001b[0;34m'1st_exact'\u001b[0m\u001b[0;34m)\u001b[0m\u001b[0;34m\u001b[0m\u001b[0;34m\u001b[0m\u001b[0m\n\u001b[0m",
      "\u001b[0;31mNameError\u001b[0m: name 'SepOne' is not defined"
     ]
    }
   ],
   "source": [
    "dsolve(SepOne, hint='1st_exact')"
   ]
  },
  {
   "cell_type": "markdown",
   "metadata": {},
   "source": [
    "##### Solving Separable Exact Eqns"
   ]
  },
  {
   "cell_type": "code",
   "execution_count": 84,
   "metadata": {},
   "outputs": [
    {
     "name": "stdout",
     "output_type": "stream",
     "text": [
      "⎛               f(t, x)⎞ ∂                        \n",
      "⎝2⋅t - f(t, x)⋅ℯ       ⎠⋅──(f(t, x)) + f(t, x) = 0\n",
      "                         ∂t                       \n",
      "\n",
      " multiplied by f(t) (IF)--> \n",
      " \n",
      "\n",
      "⎛               2        f(t, x)⎞ ∂              2          \n",
      "⎝2⋅t⋅f(t, x) - f (t, x)⋅ℯ       ⎠⋅──(f(t, x)) + f (t, x) = 0\n",
      "                                  ∂t                        \n"
     ]
    }
   ],
   "source": [
    "from sympy import Function, symbols, diff, dsolve, classify_ode, E, Eq, pprint, pde_separate\n",
    "y = symbols('y')\n",
    "x = symbols('x')\n",
    "f = Function('f')(t,x)\n",
    "\n",
    "# Try separable eqn \n",
    "var = Eq(f + (2*t-f*E**f)*f.diff(t))\n",
    "pprint(var)\n",
    "\n",
    "# This doesn't work because it is not exact... --> so set IntegratingFactor(IF)_mew = y\n",
    "print('\\n multiplied by f(t) (IF)--> \\n \\n')\n",
    "IF_mew = Eq(f**2 + (2*t*f-f**2*E**f)*f.diff(t))\n",
    "\n",
    "pprint(IF_mew)\n",
    "\n",
    "# Now we can take partial y of M * mew\n",
    "# And we can take partial x of N * mew\n",
    "# To check exactness\n",
    "\n",
    "M = f\n",
    "N = 2*t-f*E**f\n",
    "\n",
    "MewM = M * f\n",
    "MewN = N * f\n",
    "\n",
    "# take partial y of MewM\n",
    "# take partial x of MewN\n",
    "\n",
    "# MewM.diff(y)\n",
    "# MewN.diff(x)\n",
    "\n",
    "# if MewM.diff(y) == MewN.diff(x):\n",
    "#    print('Soln is exact')\n",
    "\n",
    "# value = Integrate MewM by dx \n",
    "\n",
    "# Phi(y) = N - value\n",
    "\n",
    "# Integrate Phi(y) to get gen. soln.\n",
    " "
   ]
  },
  {
   "cell_type": "markdown",
   "metadata": {},
   "source": [
    "## Variation of Parameters"
   ]
  },
  {
   "cell_type": "code",
   "execution_count": 11,
   "metadata": {
    "scrolled": true
   },
   "outputs": [
    {
     "data": {
      "text/latex": [
       "$\\displaystyle p{\\left(t \\right)} y{\\left(t \\right)} + \\frac{d}{d t} y{\\left(t \\right)} = g{\\left(t \\right)}$"
      ],
      "text/plain": [
       "Eq(p(t)*y(t) + Derivative(y(t), t), g(t))"
      ]
     },
     "execution_count": 11,
     "metadata": {},
     "output_type": "execute_result"
    }
   ],
   "source": [
    "p = Function('p')(t)\n",
    "g = Function('g')(t)\n",
    "Eq(y.diff(t) + p*y, g)"
   ]
  },
  {
   "cell_type": "code",
   "execution_count": 12,
   "metadata": {
    "scrolled": true
   },
   "outputs": [
    {
     "data": {
      "text/latex": [
       "$\\displaystyle y{\\left(t \\right)} = A^{- \\int p{\\left(t \\right)}\\, dt}$"
      ],
      "text/plain": [
       "Eq(y(t), A**(-Integral(p(t), t)))"
      ]
     },
     "execution_count": 12,
     "metadata": {},
     "output_type": "execute_result"
    }
   ],
   "source": [
    "# if g(t) is zero\n",
    "A = Symbol('A')\n",
    "Eq(y, A**(-integrate(p, t)))"
   ]
  },
  {
   "cell_type": "code",
   "execution_count": 13,
   "metadata": {
    "scrolled": true
   },
   "outputs": [
    {
     "data": {
      "text/latex": [
       "$\\displaystyle y{\\left(t \\right)} = A^{- \\int p{\\left(t \\right)}\\, dt}{\\left(t \\right)}$"
      ],
      "text/plain": [
       "Eq(y(t), A(t)**(-Integral(p(t), t)))"
      ]
     },
     "execution_count": 13,
     "metadata": {},
     "output_type": "execute_result"
    }
   ],
   "source": [
    "# if g(t) is not everywhere zero\n",
    "A = Function('A')(t)\n",
    "Eq(y, A ** (-integrate(p, t)))"
   ]
  },
  {
   "cell_type": "markdown",
   "metadata": {},
   "source": [
    "## Homogeneous Equations"
   ]
  },
  {
   "cell_type": "code",
   "execution_count": 14,
   "metadata": {
    "scrolled": true
   },
   "outputs": [
    {
     "data": {
      "text/latex": [
       "$\\displaystyle \\frac{d}{d x} y{\\left(x \\right)} = \\frac{- 4 x + y{\\left(x \\right)}}{x - y{\\left(x \\right)}}$"
      ],
      "text/plain": [
       "Eq(Derivative(y(x), x), (-4*x + y(x))/(x - y(x)))"
      ]
     },
     "execution_count": 14,
     "metadata": {},
     "output_type": "execute_result"
    }
   ],
   "source": [
    "x = symbols('x')\n",
    "y = Function('y')(x)\n",
    "eqns = Eq(y.diff(x), (y-4*x)/(x-y))\n",
    "eqns"
   ]
  },
  {
   "cell_type": "code",
   "execution_count": 15,
   "metadata": {
    "scrolled": true
   },
   "outputs": [
    {
     "data": {
      "text/plain": [
       "('1st_homogeneous_coeff_best',\n",
       " '1st_homogeneous_coeff_subs_indep_div_dep',\n",
       " '1st_homogeneous_coeff_subs_dep_div_indep',\n",
       " '1st_power_series',\n",
       " 'lie_group',\n",
       " '1st_homogeneous_coeff_subs_indep_div_dep_Integral',\n",
       " '1st_homogeneous_coeff_subs_dep_div_indep_Integral')"
      ]
     },
     "execution_count": 15,
     "metadata": {},
     "output_type": "execute_result"
    }
   ],
   "source": [
    "classify_ode(eqns)"
   ]
  },
  {
   "cell_type": "code",
   "execution_count": 16,
   "metadata": {
    "scrolled": true
   },
   "outputs": [
    {
     "data": {
      "text/latex": [
       "$\\displaystyle x \\frac{d}{d x} y{\\left(x \\right)} + y{\\left(x \\right)} = x y^{2}{\\left(x \\right)}$"
      ],
      "text/plain": [
       "Eq(x*Derivative(y(x), x) + y(x), x*y(x)**2)"
      ]
     },
     "execution_count": 16,
     "metadata": {},
     "output_type": "execute_result"
    }
   ],
   "source": [
    "eqnstwo = Eq(x*y.diff(x)+y, x*y**2)\n",
    "eqnstwo"
   ]
  },
  {
   "cell_type": "code",
   "execution_count": 17,
   "metadata": {
    "scrolled": true
   },
   "outputs": [
    {
     "data": {
      "text/plain": [
       "('Bernoulli',\n",
       " 'separable_reduced',\n",
       " 'lie_group',\n",
       " 'Bernoulli_Integral',\n",
       " 'separable_reduced_Integral')"
      ]
     },
     "execution_count": 17,
     "metadata": {},
     "output_type": "execute_result"
    }
   ],
   "source": [
    "classify_ode(eqnstwo)"
   ]
  },
  {
   "cell_type": "code",
   "execution_count": 18,
   "metadata": {},
   "outputs": [
    {
     "data": {
      "text/latex": [
       "$\\displaystyle y{\\left(x \\right)} = - \\frac{1}{x \\left(C_{1} + \\log{\\left(x \\right)}\\right)}$"
      ],
      "text/plain": [
       "Eq(y(x), -1/(x*(C1 + log(x))))"
      ]
     },
     "execution_count": 18,
     "metadata": {},
     "output_type": "execute_result"
    }
   ],
   "source": [
    "dsolve(eqnstwo, hint='separable_reduced')"
   ]
  },
  {
   "cell_type": "code",
   "execution_count": 19,
   "metadata": {},
   "outputs": [
    {
     "data": {
      "text/latex": [
       "$\\displaystyle \\frac{d}{d x} y{\\left(x \\right)} = \\frac{x^{2} + y^{2}{\\left(x \\right)}}{2 x^{2}}$"
      ],
      "text/plain": [
       "Eq(Derivative(y(x), x), (x**2 + y(x)**2)/(2*x**2))"
      ]
     },
     "execution_count": 19,
     "metadata": {},
     "output_type": "execute_result"
    }
   ],
   "source": [
    "eqnsthree = Eq(y.diff(x),(x**2 + y**2)/(2*x**2))\n",
    "eqnsthree"
   ]
  },
  {
   "cell_type": "code",
   "execution_count": 20,
   "metadata": {},
   "outputs": [
    {
     "data": {
      "text/plain": [
       "('1st_homogeneous_coeff_best',\n",
       " '1st_homogeneous_coeff_subs_indep_div_dep',\n",
       " '1st_homogeneous_coeff_subs_dep_div_indep',\n",
       " 'lie_group',\n",
       " '1st_homogeneous_coeff_subs_indep_div_dep_Integral',\n",
       " '1st_homogeneous_coeff_subs_dep_div_indep_Integral')"
      ]
     },
     "execution_count": 20,
     "metadata": {},
     "output_type": "execute_result"
    }
   ],
   "source": [
    "classify_ode(eqnsthree)"
   ]
  },
  {
   "cell_type": "code",
   "execution_count": 21,
   "metadata": {},
   "outputs": [
    {
     "data": {
      "text/latex": [
       "$\\displaystyle y{\\left(x \\right)} = \\frac{x \\left(C_{1} - \\log{\\left(x \\right)}\\right)}{C_{1} - \\log{\\left(x \\right)} - 2}$"
      ],
      "text/plain": [
       "Eq(y(x), x*(C1 - log(x))/(C1 - log(x) - 2))"
      ]
     },
     "execution_count": 21,
     "metadata": {},
     "output_type": "execute_result"
    }
   ],
   "source": [
    "dsolve(eqnsthree, hint='1st_homogeneous_coeff_subs_indep_div_dep')"
   ]
  },
  {
   "cell_type": "markdown",
   "metadata": {},
   "source": [
    "## ----------------------------------------------------------------------------------\n",
    "\n",
    "#### SIDE NOTE: WRONSKY OVERVIEW\n"
   ]
  },
  {
   "cell_type": "code",
   "execution_count": 96,
   "metadata": {},
   "outputs": [
    {
     "data": {
      "text/latex": [
       "$\\displaystyle - u^{3} \\left(u + \\frac{\\sin{\\left(2 u \\right)}}{2}\\right)$"
      ],
      "text/plain": [
       "-u**3*(u + sin(2*u)/2)"
      ]
     },
     "execution_count": 96,
     "metadata": {},
     "output_type": "execute_result"
    }
   ],
   "source": [
    "# The wronskian tells us the linear independence between the solutions of functions of x \n",
    "\n",
    "from sympy.matrices import dense\n",
    "from sympy import simplify\n",
    "\n",
    "u = sp.symbols('u')\n",
    "c = sp.Function('c')(u)\n",
    "\n",
    "collex = [u, sp.sin(u)*u, sp.cos(u)*u**2]\n",
    "\n",
    "wronsky = dense.wronskian(collex, u, method='bareis')\n",
    "simplify(wronsky)"
   ]
  },
  {
   "cell_type": "code",
   "execution_count": 55,
   "metadata": {},
   "outputs": [
    {
     "name": "stdout",
     "output_type": "stream",
     "text": [
      "since -16*sin(2)**2 - 16*cos(2)**2 - 8*sin(2)*cos(2) doesn't equal zero.\n",
      "it is >\n",
      "Linearily Independent\n"
     ]
    }
   ],
   "source": [
    "# take u = 2\n",
    "def tryit(u):\n",
    "    if (u + (sp.sin(2*u)/2))*(-u**3) != 0:\n",
    "        print('Linearily Independent')\n",
    "    elif (u + (sp.sin(2*u)/2))*(-u**3) == 0:\n",
    "        print('Not usable in gen. soln.')\n",
    "        \n",
    "print('since {} doesn\\'t equal zero.'.format(wronsky.subs(u, 2)))\n",
    "print('it is >') \n",
    "tryit(2)"
   ]
  },
  {
   "cell_type": "markdown",
   "metadata": {},
   "source": [
    "## ----------------------------------------------------------------------------------"
   ]
  },
  {
   "cell_type": "code",
   "execution_count": 108,
   "metadata": {},
   "outputs": [
    {
     "name": "stdout",
     "output_type": "stream",
     "text": [
      "                                                           2   \n",
      "2⋅sin(x)⋅cos(x)⋅cos(2⋅x) + 2⋅sin(x)⋅cos(x) - 2⋅sin(2⋅x)⋅cos (x)\n"
     ]
    },
    {
     "data": {
      "text/latex": [
       "$\\displaystyle 0$"
      ],
      "text/plain": [
       "0"
      ]
     },
     "execution_count": 108,
     "metadata": {},
     "output_type": "execute_result"
    }
   ],
   "source": [
    "import sympy as sp\n",
    "# if solutions are y1 & y2\n",
    "# sp.cos(x)^2 __&__ 1 + sp.cos(2x)\n",
    "# then take wronsky of solutions\n",
    "\n",
    "trash = [sp.cos(x)**2, 1+sp.cos(2*x)]\n",
    "pprint(dense.wronskian(trash, x))\n",
    "simplify(dense.wronskian(trash, x))"
   ]
  },
  {
   "cell_type": "code",
   "execution_count": 118,
   "metadata": {},
   "outputs": [
    {
     "data": {
      "text/latex": [
       "$\\displaystyle g{\\left(x \\right)} = C_{1} + \\frac{x^{3}}{2 y + 3} - \\frac{x}{2 y + 3}$"
      ],
      "text/plain": [
       "Eq(g(x), C1 + x**3/(2*y + 3) - x/(2*y + 3))"
      ]
     },
     "execution_count": 118,
     "metadata": {},
     "output_type": "execute_result"
    }
   ],
   "source": [
    "var = Eq(g.diff(x),(-1+3*x**2)/(3+2*y))\n",
    "\n",
    "dsolve(var, hint='separable')"
   ]
  },
  {
   "cell_type": "code",
   "execution_count": null,
   "metadata": {},
   "outputs": [],
   "source": []
  }
 ],
 "metadata": {
  "kernelspec": {
   "display_name": "Python 3",
   "language": "python",
   "name": "python3"
  },
  "language_info": {
   "codemirror_mode": {
    "name": "ipython",
    "version": 3
   },
   "file_extension": ".py",
   "mimetype": "text/x-python",
   "name": "python",
   "nbconvert_exporter": "python",
   "pygments_lexer": "ipython3",
   "version": "3.8.5"
  }
 },
 "nbformat": 4,
 "nbformat_minor": 4
}
